{
 "cells": [
  {
   "cell_type": "code",
   "execution_count": 1,
   "metadata": {},
   "outputs": [],
   "source": [
    "## Todos os exercícios daqui vão usar a base do IMDB\n",
    "# mais exercícios aqui: https://github.com/guipsamora/pandas_exercises\n",
    "import pandas as pd\n",
    "import numpy as np\n",
    "\n",
    "imdb = pd.read_csv(\"../dados/imdb.csv\")"
   ]
  },
  {
   "cell_type": "code",
   "execution_count": null,
   "metadata": {},
   "outputs": [],
   "source": [
    "# Crie uma coluna chamada prejuizo (orcamento - receita) e salve a nova tabela em um objeto chamado imdb_prejuizo. Em seguida, filtre apenas os filmes que deram prejuízo e ordene a tabela \n",
    "# por ordem crescente de prejuízo."
   ]
  },
  {
   "cell_type": "code",
   "execution_count": null,
   "metadata": {},
   "outputs": [],
   "source": [
    "# Crie uma nova coluna que classifique o filme em \"recente\" (posterior a 2000) e \"antigo\" (de 2000 para trás)."
   ]
  },
  {
   "cell_type": "code",
   "execution_count": null,
   "metadata": {},
   "outputs": [],
   "source": [
    "# Identifique os filmes que são gênero 'Comedy' e 'Horror' ao mesmo tempo."
   ]
  },
  {
   "cell_type": "code",
   "execution_count": null,
   "metadata": {},
   "outputs": [],
   "source": [
    "# Selecione os filmes que não são do gênero 'Horror'."
   ]
  },
  {
   "cell_type": "code",
   "execution_count": null,
   "metadata": {},
   "outputs": [],
   "source": [
    "#  Calcule a duração média e mediana dos filmes da base."
   ]
  },
  {
   "cell_type": "code",
   "execution_count": null,
   "metadata": {},
   "outputs": [],
   "source": [
    "# Calcule o lucro médio dos filmes com duração maior que 2 horas (ou seja, 120 minutos)."
   ]
  },
  {
   "cell_type": "code",
   "execution_count": null,
   "metadata": {},
   "outputs": [],
   "source": [
    "# Apresente na mesma tabela o lucro médio dos filmes com duracao menor que 120 minutos e o lucro médio dos \n",
    "# filmes com duracao maior ou igual a 120 minutos."
   ]
  },
  {
   "cell_type": "code",
   "execution_count": null,
   "metadata": {},
   "outputs": [],
   "source": [
    "# Apresente uma tabela com apenas o nome das pessoas que dirigiram mais de 10 filmes."
   ]
  },
  {
   "cell_type": "code",
   "execution_count": null,
   "metadata": {},
   "outputs": [],
   "source": [
    "# Obtenha a média de lucro, orcamento e receita dos filmes por década.\n",
    "# Por exemplo, década de 1980 contém os anos de 1980 até 1989, etc."
   ]
  },
  {
   "cell_type": "code",
   "execution_count": null,
   "metadata": {},
   "outputs": [],
   "source": [
    "# Salve em um novo objeto uma tabela com a nota média dos filmes de cada pessoa que dirigiu filmes. Essa tabela \n",
    "# deve conter duas colunas (direcao e nota_imdb_media) e cada linha deve ser um pessoa diferente."
   ]
  },
  {
   "cell_type": "code",
   "execution_count": null,
   "metadata": {},
   "outputs": [],
   "source": [
    "# Use o merge para trazer a coluna nota_imdb_media da tabela do item anterior para a tabela imdb original."
   ]
  }
 ],
 "metadata": {
  "kernelspec": {
   "display_name": "Python 3",
   "language": "python",
   "name": "python3"
  },
  "language_info": {
   "codemirror_mode": {
    "name": "ipython",
    "version": 3
   },
   "file_extension": ".py",
   "mimetype": "text/x-python",
   "name": "python",
   "nbconvert_exporter": "python",
   "pygments_lexer": "ipython3",
   "version": "3.10.4"
  },
  "orig_nbformat": 4,
  "vscode": {
   "interpreter": {
    "hash": "3ad933181bd8a04b432d3370b9dc3b0662ad032c4dfaa4e4f1596c548f763858"
   }
  }
 },
 "nbformat": 4,
 "nbformat_minor": 2
}
